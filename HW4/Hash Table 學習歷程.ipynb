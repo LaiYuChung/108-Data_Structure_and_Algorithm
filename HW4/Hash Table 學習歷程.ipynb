{
 "cells": [
  {
   "cell_type": "code",
   "execution_count": null,
   "metadata": {},
   "outputs": [],
   "source": [
    "Hash table:\n",
    "    一個字串對應一個編碼\n",
    "    資料轉成16進位的編碼\n",
    "    每個編碼都是獨立的\n",
    "    不同的字串會產生不同的編碼"
   ]
  },
  {
   "cell_type": "code",
   "execution_count": 2,
   "metadata": {},
   "outputs": [],
   "source": [
    "from Crypto.Hash import MD5"
   ]
  },
  {
   "cell_type": "code",
   "execution_count": 3,
   "metadata": {},
   "outputs": [
    {
     "name": "stdout",
     "output_type": "stream",
     "text": [
      "e8ea7a8d1e93e8764a84a0f3df4644de\n"
     ]
    },
    {
     "data": {
      "text/plain": [
       "309598378121603552355055819011289138398"
      ]
     },
     "execution_count": 3,
     "metadata": {},
     "output_type": "execute_result"
    }
   ],
   "source": [
    "h = MD5.new()\n",
    "h.update(\"Hello there\".encode(\"UTF-8\"))\n",
    "print(h.hexdigest())\n",
    "x = int(h.hexdigest(),16)\n",
    "x"
   ]
  },
  {
   "cell_type": "code",
   "execution_count": 34,
   "metadata": {},
   "outputs": [
    {
     "name": "stdout",
     "output_type": "stream",
     "text": [
      "e8ea7a8d1e93e8764a84a0f3df4644de\n"
     ]
    }
   ],
   "source": [
    "h2 = MD5.new(\"Hello there\".encode(\"UTF-8\"))\n",
    "print(h2.hexdigest())"
   ]
  },
  {
   "cell_type": "code",
   "execution_count": 4,
   "metadata": {},
   "outputs": [
    {
     "data": {
      "text/plain": [
       "3"
      ]
     },
     "execution_count": 4,
     "metadata": {},
     "output_type": "execute_result"
    }
   ],
   "source": [
    "x % 5"
   ]
  },
  {
   "cell_type": "code",
   "execution_count": null,
   "metadata": {},
   "outputs": [],
   "source": [
    "class Hash(object):           #類別\n",
    "    def __init__(self,x):     #甚麼都沒有做，初始化的特徵\n",
    "        self.getvalue = 0     # 定義\n",
    "    def add(self,y):\n",
    "        self.getvalue = y     #存回原本定義的變數\n",
    "        getvalue = y          #沒有存回原本定義\n",
    "        \n",
    "        \n",
    "a = Hash(6)                   #物件\n",
    "a.add(6)"
   ]
  },
  {
   "cell_type": "code",
   "execution_count": 31,
   "metadata": {},
   "outputs": [
    {
     "name": "stdout",
     "output_type": "stream",
     "text": [
      "3\n",
      "<class 'int'>\n"
     ]
    }
   ],
   "source": [
    "a = [3,4,5,6,7,8,8,8]\n",
    "b = a.count(8)\n",
    "print(b)\n",
    "print(type(b))"
   ]
  },
  {
   "cell_type": "code",
   "execution_count": 2,
   "metadata": {},
   "outputs": [
    {
     "name": "stdout",
     "output_type": "stream",
     "text": [
      "82\n",
      "[] [82] []\n",
      "7\n",
      "[] [82, 7] []\n",
      "66\n",
      "[66] [82, 7] []\n",
      "14\n",
      "[66] [82, 7] [14]\n",
      "60\n",
      "[66, 60] [82, 7] [14]\n"
     ]
    }
   ],
   "source": [
    "#先試做一個方法來取餘數存到不同的array裡面\n",
    "a1 = []\n",
    "a2 = []\n",
    "a3 = []\n",
    "import random\n",
    "num = random.randint(1,100)\n",
    "for i in range(5):\n",
    "    i = random.randint(1,100)\n",
    "    if i % 3 == 0:\n",
    "        a1.append(i)\n",
    "        print(i)\n",
    "        print(a1,a2,a3)\n",
    "    elif i % 3 == 1:\n",
    "        a2.append(i)\n",
    "        print(i)\n",
    "        print(a1,a2,a3)\n",
    "    else:\n",
    "        a3.append(i)\n",
    "        print(i)\n",
    "        print(a1,a2,a3)\n"
   ]
  },
  {
   "cell_type": "code",
   "execution_count": 1,
   "metadata": {},
   "outputs": [
    {
     "ename": "NameError",
     "evalue": "name 'a1' is not defined",
     "output_type": "error",
     "traceback": [
      "\u001b[1;31m---------------------------------------------------------------------------\u001b[0m",
      "\u001b[1;31mNameError\u001b[0m                                 Traceback (most recent call last)",
      "\u001b[1;32m<ipython-input-1-87ef160ecc66>\u001b[0m in \u001b[0;36m<module>\u001b[1;34m()\u001b[0m\n\u001b[0;32m      6\u001b[0m     \u001b[1;32melse\u001b[0m\u001b[1;33m:\u001b[0m\u001b[1;33m\u001b[0m\u001b[0m\n\u001b[0;32m      7\u001b[0m         \u001b[1;32mreturn\u001b[0m \u001b[0ma3\u001b[0m\u001b[1;33m.\u001b[0m\u001b[0mcount\u001b[0m\u001b[1;33m(\u001b[0m\u001b[0mnum\u001b[0m\u001b[1;33m)\u001b[0m \u001b[1;33m!=\u001b[0m \u001b[1;36m0\u001b[0m\u001b[1;33m\u001b[0m\u001b[0m\n\u001b[1;32m----> 8\u001b[1;33m \u001b[0ma1\u001b[0m \u001b[1;33m=\u001b[0m \u001b[0msearch_num\u001b[0m\u001b[1;33m(\u001b[0m\u001b[1;36m9\u001b[0m\u001b[1;33m)\u001b[0m\u001b[1;33m\u001b[0m\u001b[0m\n\u001b[0m\u001b[0;32m      9\u001b[0m \u001b[0ma2\u001b[0m \u001b[1;33m=\u001b[0m \u001b[0msearch_num\u001b[0m\u001b[1;33m(\u001b[0m\u001b[1;36m18\u001b[0m\u001b[1;33m)\u001b[0m\u001b[1;33m\u001b[0m\u001b[0m\n\u001b[0;32m     10\u001b[0m \u001b[0mprint\u001b[0m\u001b[1;33m(\u001b[0m\u001b[0ma1\u001b[0m\u001b[1;33m,\u001b[0m\u001b[0ma2\u001b[0m\u001b[1;33m)\u001b[0m\u001b[1;33m\u001b[0m\u001b[0m\n",
      "\u001b[1;32m<ipython-input-1-87ef160ecc66>\u001b[0m in \u001b[0;36msearch_num\u001b[1;34m(num)\u001b[0m\n\u001b[0;32m      1\u001b[0m \u001b[1;32mdef\u001b[0m \u001b[0msearch_num\u001b[0m\u001b[1;33m(\u001b[0m\u001b[0mnum\u001b[0m\u001b[1;33m)\u001b[0m\u001b[1;33m:\u001b[0m\u001b[1;33m\u001b[0m\u001b[0m\n\u001b[0;32m      2\u001b[0m     \u001b[1;32mif\u001b[0m \u001b[0mnum\u001b[0m \u001b[1;33m%\u001b[0m \u001b[1;36m3\u001b[0m \u001b[1;33m==\u001b[0m \u001b[1;36m0\u001b[0m\u001b[1;33m:\u001b[0m\u001b[1;33m\u001b[0m\u001b[0m\n\u001b[1;32m----> 3\u001b[1;33m         \u001b[1;32mreturn\u001b[0m \u001b[0ma1\u001b[0m\u001b[1;33m.\u001b[0m\u001b[0mcount\u001b[0m\u001b[1;33m(\u001b[0m\u001b[0mnum\u001b[0m\u001b[1;33m)\u001b[0m \u001b[1;33m!=\u001b[0m \u001b[1;36m0\u001b[0m\u001b[1;33m\u001b[0m\u001b[0m\n\u001b[0m\u001b[0;32m      4\u001b[0m     \u001b[1;32melif\u001b[0m \u001b[0mnum\u001b[0m \u001b[1;33m%\u001b[0m \u001b[1;36m3\u001b[0m \u001b[1;33m==\u001b[0m \u001b[1;36m1\u001b[0m\u001b[1;33m:\u001b[0m\u001b[1;33m\u001b[0m\u001b[0m\n\u001b[0;32m      5\u001b[0m         \u001b[1;32mreturn\u001b[0m \u001b[0ma2\u001b[0m\u001b[1;33m.\u001b[0m\u001b[0mcount\u001b[0m\u001b[1;33m(\u001b[0m\u001b[0mnum\u001b[0m\u001b[1;33m)\u001b[0m \u001b[1;33m!=\u001b[0m \u001b[1;36m0\u001b[0m\u001b[1;33m\u001b[0m\u001b[0m\n",
      "\u001b[1;31mNameError\u001b[0m: name 'a1' is not defined"
     ]
    }
   ],
   "source": [
    "def search_num(num):\n",
    "    if num % 3 == 0:\n",
    "        return a1.count(num) != 0\n",
    "    elif num % 3 == 1:\n",
    "        return a2.count(num) != 0\n",
    "    else:\n",
    "        return a3.count(num) != 0\n",
    "a1 = search_num(9)\n",
    "a2 = search_num(18)\n",
    "print(a1,a2)"
   ]
  },
  {
   "cell_type": "code",
   "execution_count": null,
   "metadata": {},
   "outputs": [],
   "source": [
    "#參考資料:https://blog.techbridge.cc/2017/01/21/simple-hash-table-intro/\n",
    "#https://www.hackerearth.com/zh/practice/data-structures/hash-tables/basics-of-hash-tables/tutorial/\n"
   ]
  },
  {
   "cell_type": "code",
   "execution_count": null,
   "metadata": {},
   "outputs": [],
   "source": [
    "Hash table \n",
    "編碼轉十進位取餘數看放在第幾條linked-list\n",
    "\n",
    "假設有總數為5\n",
    "編碼取餘數=0，放第1個位置，如果已經有放過值了，以linked-list串接\n",
    "編碼取餘數=1，放第2個位置，如果已經有放過值了，以linked-list串接\n",
    "以此類推...->"
   ]
  },
  {
   "cell_type": "code",
   "execution_count": 6,
   "metadata": {},
   "outputs": [
    {
     "name": "stdout",
     "output_type": "stream",
     "text": [
      "[None, None, None, None, None]\n",
      "[None, None, None, None, None, 5]\n"
     ]
    }
   ],
   "source": [
    "#這裡測試None乘以5是長怎麼樣\n",
    "a = [None] * 5\n",
    "print(a)\n",
    "a.append(5)\n",
    "print(a)"
   ]
  },
  {
   "cell_type": "code",
   "execution_count": null,
   "metadata": {},
   "outputs": [],
   "source": [
    "from Crypto.Hash import MD5\n",
    "class ListNode:\n",
    "    def __init__(self, val):\n",
    "        self.val = val\n",
    "        self.next = None\n",
    "class MyHashSet:\n",
    "    def __init__(self, capacity):\n",
    "        self.capacity = capacity\n",
    "        self.data = [None] * capacity\n",
    "        \n",
    "    def add(self, key):\n",
    "        h = MD5.new(key.encode(\"UTF-8\"))\n",
    "        num = int(h.hexdigest(),16) % self.capacity\n",
    "        current = self.data[num]\n",
    "        if current != None:\n",
    "            \n",
    "        new = ListNode(key)\n",
    "        new.next = self.data[num]\n",
    "    def remove(self, key):\n",
    "        h = MD5.new(key.encode(\"UTF-8\"))\n",
    "        h_new = h.hexdigest()\n",
    "        \n",
    "    def contains(self, key):\n",
    "        h = MD5.new(key.encode(\"UTF-8\"))\n",
    "        h_new = h.hexdigest()\n",
    "        "
   ]
  },
  {
   "cell_type": "code",
   "execution_count": 78,
   "metadata": {},
   "outputs": [],
   "source": [
    "from Crypto.Hash import MD5\n",
    "class ListNode:\n",
    "    def __init__(self, val):\n",
    "        self.val = val\n",
    "        self.next = None\n",
    "class MyHashSet:\n",
    "    def __init__(self, capacity = 5):\n",
    "        self.capacity = capacity\n",
    "        self.data = [None] * capacity\n",
    "        \n",
    "    def add(self, key):\n",
    "        h = MD5.new(key.encode(\"UTF-8\"))\n",
    "        h2 = h.hexdigest()\n",
    "        num = int(h.hexdigest(),16) % self.capacity\n",
    "        self.data = self.data[:num] + [h2] + self.data[num:]\n",
    "        \n",
    "    def printarr(self):\n",
    "        print(self.data)\n",
    "    \n",
    "    def remove(self, key):\n",
    "        h = MD5.new(key.encode(\"UTF-8\"))\n",
    "        h2 = h.hexdigest()\n",
    "        num = int(h.hexdigest(),16) % self.capacity\n",
    "        if self.data[num:].count(h2) == 0:\n",
    "            pass\n",
    "        else:\n",
    "            self.data.remove(h2)\n",
    "            if self.data.count(h2)!=0:\n",
    "                return self.remove(key)\n",
    "    def contains(self, key):\n",
    "        h = MD5.new(key.encode(\"UTF-8\"))\n",
    "        h2 = h.hexdigest()\n",
    "        num = int(h.hexdigest(),16) % self.capacity\n",
    "        b = self.data[num:]\n",
    "        if b.count(h2) == 0:\n",
    "            return False\n",
    "        else:\n",
    "            return True"
   ]
  },
  {
   "cell_type": "code",
   "execution_count": 79,
   "metadata": {},
   "outputs": [
    {
     "name": "stdout",
     "output_type": "stream",
     "text": [
      "['06d80eb0c50b49a509b49f2424e8c805', '06d80eb0c50b49a509b49f2424e8c805', None, 'f74c6af46a78becb2f1bd3f95bbd5858', None, None, None, None]\n",
      "True\n",
      "True\n",
      "False\n",
      "True\n",
      "False\n"
     ]
    }
   ],
   "source": [
    "a = MyHashSet()\n",
    "\n",
    "a.add(\"dog\")\n",
    "a.add(\"pig\")\n",
    "a.add(\"dog\")\n",
    "a.printarr()\n",
    "rel = a.contains(\"pig\")\n",
    "print(rel)                      #True\n",
    "rel = a.contains(\"dog\")\n",
    "print(rel)                      #True\n",
    "rel = a.contains(\"cat\")\n",
    "print(rel)                      #False\n",
    "a.add(\"bird\")\n",
    "rel = a.contains(\"bird\")\n",
    "print(rel)                      #True\n",
    "a.remove(\"pig\")\n",
    "rel = a.contains(\"pig\")\n",
    "print(rel)                      #False"
   ]
  },
  {
   "cell_type": "code",
   "execution_count": 58,
   "metadata": {},
   "outputs": [
    {
     "name": "stdout",
     "output_type": "stream",
     "text": [
      "[1, 2, 56]\n",
      "[3, 4, 5, 6]\n",
      "[1, 2, 56, 3, 4, 5, 6]\n"
     ]
    }
   ],
   "source": [
    "aa = [1,2,3,4,5,6]\n",
    "numm = 2\n",
    "a = aa[:numm]\n",
    "b = aa[numm:]\n",
    "a.append(56)\n",
    "print(a)\n",
    "print(b)\n",
    "print(a+b)"
   ]
  },
  {
   "cell_type": "code",
   "execution_count": 75,
   "metadata": {},
   "outputs": [
    {
     "name": "stdout",
     "output_type": "stream",
     "text": [
      "[3, 6, 12, 15]\n"
     ]
    }
   ],
   "source": [
    "d = [2,4,6,8,3,6,9,9,12,15]\n",
    "#find 9\n",
    "d1 = d[4:]\n",
    "def re(a):\n",
    "    if d1.count(a)==0:\n",
    "        pass\n",
    "    else:\n",
    "        d1.remove(a)\n",
    "        if d1.count(a)!=0:\n",
    "            return re(a)\n",
    "re(9)\n",
    "print(d1)"
   ]
  },
  {
   "cell_type": "code",
   "execution_count": 9,
   "metadata": {},
   "outputs": [
    {
     "name": "stdout",
     "output_type": "stream",
     "text": [
      "277102220249073555409885156483852860632\n",
      "2\n",
      "184900800977808474752697256094572479703\n",
      "3\n"
     ]
    }
   ],
   "source": [
    "#測試轉換數字和取餘數\n",
    "def get_num(key):\n",
    "    h = MD5.new(key.encode(\"UTF-8\"))\n",
    "    return int(h.hexdigest(),16) % 5\n",
    "\n",
    "h1=MD5.new()\n",
    "h1.update(\"cat\".encode(\"UTF-8\"))\n",
    "print(int(h1.hexdigest(),16))\n",
    "print(get_num(\"cat\"))\n",
    "\n",
    "h2=MD5.new()\n",
    "h2.update(\"Hello\".encode(\"UTF-8\"))\n",
    "print(int(h2.hexdigest(),16))\n",
    "print(get_num(\"Hello\"))"
   ]
  },
  {
   "cell_type": "code",
   "execution_count": null,
   "metadata": {},
   "outputs": [],
   "source": [
    "#n 取餘數後放第幾位\n",
    "\n",
    "node = self.data[n]\n",
    "while node:\n",
    "    if node.val == key:\n",
    "        return\n",
    "    node = node.next\n",
    "new_node = ListNode(key)\n",
    "new_node.next self.data[n]\n",
    "self.data[n] = new_node"
   ]
  },
  {
   "cell_type": "code",
   "execution_count": null,
   "metadata": {},
   "outputs": [],
   "source": [
    "from Crypto.Hash import MD5\n",
    "class ListNode:\n",
    "    def __init__(self, val):\n",
    "        self.val = val\n",
    "        self.next = None\n",
    "        \"\"\"\n",
    "        :type val: int\n",
    "        :type next: ListNode\n",
    "        :rtype: None        \n",
    "        \"\"\"\n",
    "class MyHashSet:\n",
    "    def __init__(self, capacity):\n",
    "        self.capacity = capacity\n",
    "        self.data = [None] * capacity\n",
    "        \"\"\"\n",
    "        :type capacity: int\n",
    "        :rtype: None\n",
    "        \"\"\"\n",
    "    def add(self, key):\n",
    "        \"\"\"\n",
    "        :type key: int\n",
    "        :rtype: None\n",
    "        \"\"\"\n",
    "    def remove(self, key):\n",
    "        \"\"\"\n",
    "        :type key: int\n",
    "        :rtype: None\n",
    "        \"\"\"\n",
    "    def contains(self, key):\n",
    "        \"\"\"\n",
    "        :type key: int\n",
    "        :rtype: bool(True or False)\n",
    "        \"\"\""
   ]
  },
  {
   "cell_type": "code",
   "execution_count": null,
   "metadata": {},
   "outputs": [],
   "source": [
    "#輸入測試資料\n",
    "#from Crypto.Hash import MD5\n",
    "#h = MD5.new()\n",
    "#h.update(\"dog\".encode(\"utf-8\"))\n",
    "#print(h.hexdigest())\n",
    "#print(int(h.hexdigest(),16))\n",
    "#--------------------------------\n",
    "hashSet = MyHashSet()\n",
    "hashSet.add(\"dog\")\n",
    "hashSet.add(\"pig\")\n",
    "rel = hashSet.contains(\"pig\")\n",
    "print(rel)                      #True\n",
    "rel = hashSet.contains(\"dog\")\n",
    "print(rel)                      #True\n",
    "rel = hashSet.contains(\"cat\")\n",
    "print(rel)                      #False\n",
    "hashSet.add(\"bird\")\n",
    "rel = hashSet.contains(\"bird\")\n",
    "print(rel)                      #True\n",
    "hashSet.remove(\"pig\")\n",
    "rel = hashSet.contains(\"pig\")\n",
    "print(rel)                      #False"
   ]
  },
  {
   "cell_type": "code",
   "execution_count": null,
   "metadata": {},
   "outputs": [],
   "source": [
    "#leet code #705 Design Hashset\n",
    "#11/26 pair programming\n",
    "class MyHashSet:\n",
    "\n",
    "    def __init__(self):\n",
    "        \"\"\"\n",
    "        Initialize your data structure here.\n",
    "        \"\"\"\n",
    "        self.arr = []\n",
    "    def add(self, key: int) -> None:\n",
    "        self.arr.append(key)\n",
    "        \n",
    "    def remove(self, key: int) -> None:\n",
    "        if self.arr.count(key) ==0:\n",
    "            pass\n",
    "        elif self.arr.count(key) >=1:\n",
    "            self.arr.remove(key)\n",
    "            if self.arr.count(key)>=1:\n",
    "                return self.remove(key)\n",
    "\n",
    "    def contains(self, key: int) -> bool:\n",
    "        \"\"\"\n",
    "        Returns true if this set contains the specified element\n",
    "        \"\"\"\n",
    "        if self.arr.count(key) >=1:\n",
    "            return True        \n",
    "        else:\n",
    "            return False   \n",
    "\n",
    "# Your MyHashSet object will be instantiated and called as such:\n",
    "# obj = MyHashSet()\n",
    "# obj.add(key)\n",
    "# obj.remove(key)\n",
    "# param_3 = obj.contains(key)"
   ]
  }
 ],
 "metadata": {
  "kernelspec": {
   "display_name": "Python 3",
   "language": "python",
   "name": "python3"
  },
  "language_info": {
   "codemirror_mode": {
    "name": "ipython",
    "version": 3
   },
   "file_extension": ".py",
   "mimetype": "text/x-python",
   "name": "python",
   "nbconvert_exporter": "python",
   "pygments_lexer": "ipython3",
   "version": "3.6.6"
  }
 },
 "nbformat": 4,
 "nbformat_minor": 2
}
