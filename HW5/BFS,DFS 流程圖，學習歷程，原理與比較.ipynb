{
 "cells": [
  {
   "cell_type": "code",
   "execution_count": 6,
   "metadata": {},
   "outputs": [
    {
     "name": "stdout",
     "output_type": "stream",
     "text": [
      "Breadth-First Search\n"
     ]
    },
    {
     "data": {
      "image/png": "[encoded data removed]",
      "text/plain": [
       "<Figure size 432x288 with 1 Axes>"
      ]
     },
     "metadata": {},
     "output_type": "display_data"
    }
   ],
   "source": [
    "from PIL import Image #Python Image Library\n",
    "import matplotlib.pyplot as plt \n",
    "img = Image.open(\"D:/BFS.png\")\n",
    "print(\"Breadth-First Search\")\n",
    "plt.imshow(img,)\n",
    "plt.show()"
   ]
  },
  {
   "cell_type": "code",
   "execution_count": 3,
   "metadata": {},
   "outputs": [
    {
     "name": "stdout",
     "output_type": "stream",
     "text": [
      "  B--E--F\n",
      " /   | / \\ \n",
      "A ---C    I\n",
      " \\   | \\ /\n",
      "  D--H--G\n",
      "\n",
      "A-> B -> C -> D\n",
      "B-> A -> E\n",
      "C-> A -> E -> F -> G -> H\n",
      "D-> A -> H\n",
      "E-> B -> C -> F\n",
      "F-> C -> E -> I\n",
      "G-> C -> H -> I\n",
      "H-> C -> D -> G\n",
      "I-> F -> G\n",
      "\n",
      "State 1: B C F A G H I D\n",
      "State 2: E B C F A G H I D\n"
     ]
    }
   ],
   "source": [
    "print(\"  B--E--F\")\n",
    "print(\" /   | / \\ \")\n",
    "print(\"A ---C    I\")\n",
    "print(\" \\   | \\ /\")\n",
    "print(\"  D--H--G\")\n",
    "print()\n",
    "print(\"A-> B -> C -> D\")\n",
    "print(\"B-> A -> E\")\n",
    "print(\"C-> A -> E -> F -> G -> H\")\n",
    "print(\"D-> A -> H\")\n",
    "print(\"E-> B -> C -> F\")\n",
    "print(\"F-> C -> E -> I\")\n",
    "print(\"G-> C -> H -> I\")\n",
    "print(\"H-> C -> D -> G\")\n",
    "print(\"I-> F -> G\")\n",
    "print()\n",
    "print(\"State 1: B C F A G H I D\")\n",
    "print(\"State 2: E B C F A G H I D\")\n"
   ]
  },
  {
   "cell_type": "markdown",
   "metadata": {},
   "source": [
    "BFS排序流程:(Queue)(先進先出)\n",
    "---\n",
    "-    1.首先先決定起始點\n",
    "-    2.做一個表有關每個點以及相連的點\n",
    "-    3.再根據這個表做出從起始點走訪的順序\n",
    "<br>   \n",
    "-    4.從起始點開始依序放入起始點以及與起始點相連的點\n",
    "-    5.與起始點相連的點都走訪過後，將起始點的下一項為新的起始點\n",
    "-    6.重複第4步驟直到所有點都走訪過一次結束走訪流程"
   ]
  },
  {
   "cell_type": "markdown",
   "metadata": {},
   "source": [
    "DFS排序流程:(Stack)(後進先出)\n",
    "---\n",
    "\n",
    "-    1.首先先決定起始點\n",
    "-    2.做一個表有關每個點以及相連的點\n",
    "-    3.再根據這個表做出從起始點走訪的順序\n",
    "<br> \n",
    "-    4.從起始點開始依序放入起始點以及與起始點相連的點\n",
    "-    5.與起始點相連的點都走訪過後，與起始點相連且最後放入的點為新的起始點\n",
    "-    6.重複第4步驟直到所有點都走訪過一次結束走訪流程"
   ]
  },
  {
   "cell_type": "markdown",
   "metadata": {},
   "source": [
    "BFS，DFS比較:\n",
    "---\n",
    "<br>    BFS是以Queue(先進先出)的方法，DFS則是用Stack(後進先出)，在排序上就會有不同的走訪順序\n",
    "<br>\n",
    "<br>    BFS是將所有的點走訪過一次，走過的點就放進去，直到所有的點都走訪過\n",
    "<br>    先走過的點就會先放入搜尋順序\n",
    "<br>\n",
    "<br>    DFS一樣是將所有的點走訪過，走過的點就放進去，直到所有的點都走訪過\n",
    "<br>    將最後得到的點先取出並放入搜尋順序"
   ]
  },
  {
   "cell_type": "code",
   "execution_count": 66,
   "metadata": {},
   "outputs": [
    {
     "name": "stdout",
     "output_type": "stream",
     "text": [
      "dict_values([[1, 2], [2], [0, 3], [3], [7]])\n",
      "[0, 3]\n"
     ]
    }
   ],
   "source": [
    "#http://design2u.me/blog/33/python-list-%E4%B8%B2%E5%88%97-%E8%88%87-dictionary-%E5%AD%97%E5%85%B8-%E5%9F%BA%E6%9C%AC%E6%8C%87%E4%BB%A4\n",
    "#了解dictionary的操作，取資料\n",
    "\n",
    "D = {0: [1, 2], 1: [2], 2: [0, 3], 3: [3], 4: [7]}\n",
    "print(D.values())\n",
    "print(D[2])"
   ]
  },
  {
   "cell_type": "code",
   "execution_count": 67,
   "metadata": {},
   "outputs": [
    {
     "name": "stdout",
     "output_type": "stream",
     "text": [
      "dict_keys([0, 1, 2, 3, 4])\n",
      "5\n"
     ]
    }
   ],
   "source": [
    "#取全部的點數量\n",
    "print(D.keys())\n",
    "print(len(D.keys()))"
   ]
  },
  {
   "cell_type": "code",
   "execution_count": null,
   "metadata": {},
   "outputs": [],
   "source": [
    "BFS 方法:\n",
    "    1.創建state 1 和 state 2 \n",
    "    2.將起始點放到state 2 \n",
    "    3.起始點剩下連接的點放到state 1\n",
    "    4.從state 1的第一項開始放到state 2\n",
    "    5.把state 1的第一項接續放到state 1 \n",
    "    6.如果state 1 和 state 2 都有存在要加入的點，就跳過不加\n",
    "    7.等到所有state 1 的連接點都跑過一次後，換在state 1 的下一個點\n",
    "    8.重複2~7步驟"
   ]
  },
  {
   "cell_type": "code",
   "execution_count": 1,
   "metadata": {},
   "outputs": [],
   "source": [
    "#參考資料:自己思考步驟並轉換為程式碼\n",
    "#pair programming 討論\n",
    "\n",
    "from collections import defaultdict \n",
    "class Graph:\n",
    "    # Constructor \n",
    "    def __init__(self): \n",
    "        # default dictionary to store graph \n",
    "        self.graph = defaultdict(list) \n",
    "    # function to add an edge to graph \n",
    "    def addEdge(self,u,v): \n",
    "        self.graph[u].append(v) \n",
    "        return\n",
    "    def max_length(self):\n",
    "        return len(self.graph.keys())\n",
    "    def print_dict(self):\n",
    "        return self.graph\n",
    "    # Function to print a BFS of graph \n",
    "    def BFS(self, s): \n",
    "        state_1 = []\n",
    "        state_2 = []\n",
    "        state_2.append(s)\n",
    "        index = 0\n",
    "        while len(state_2) != self.max_length():\n",
    "            for i in self.graph[s]:\n",
    "                if state_1.count(i)==0 and state_2.count(i)==0:\n",
    "                    state_1.append(i)\n",
    "                else:\n",
    "                    pass\n",
    "            state_2.append(state_1[0])\n",
    "            state_1.pop(0)\n",
    "            index = index+1\n",
    "            s = state_2[index]\n",
    "        return state_2\n",
    "    \n",
    "    def DFS(self, s):\n",
    "        state_1 = []\n",
    "        state_2 = []\n",
    "        state_2.append(s)\n",
    "        while len(state_2) != self.max_length():\n",
    "            for i in self.graph[s]:\n",
    "                if state_1.count(i)==0 and state_2.count(i)==0:\n",
    "                    state_1.append(i)\n",
    "                else:\n",
    "                    pass\n",
    "            state_2.append(state_1[-1])\n",
    "            s = state_1[-1]\n",
    "            state_1.pop(-1)\n",
    "        return state_2"
   ]
  },
  {
   "cell_type": "code",
   "execution_count": 2,
   "metadata": {},
   "outputs": [
    {
     "name": "stdout",
     "output_type": "stream",
     "text": [
      "defaultdict(<class 'list'>, {0: [1, 2], 1: [2], 2: [0, 3], 3: [3]})\n",
      "4\n",
      "[2, 0, 3, 1]\n",
      "[1, 2, 0, 3]\n",
      "[2, 3, 0, 1]\n",
      "[1, 2, 3, 0]\n"
     ]
    }
   ],
   "source": [
    "a = Graph()\n",
    "a.addEdge(0,1)\n",
    "a.addEdge(0,2)\n",
    "a.addEdge(1,2)\n",
    "a.addEdge(2,0)\n",
    "a.addEdge(2,3)\n",
    "a.addEdge(3,3)\n",
    "print(a.print_dict())\n",
    "print(a.max_length())\n",
    "print(a.BFS(2))   #[2,0,3,1]\n",
    "print(a.BFS(1))   #[1,2,0,3]\n",
    "print(a.DFS(2))   #[2,3,0,1]\n",
    "print(a.DFS(1))   #[1,2,3,0]"
   ]
  },
  {
   "cell_type": "code",
   "execution_count": 147,
   "metadata": {},
   "outputs": [
    {
     "name": "stdout",
     "output_type": "stream",
     "text": [
      "defaultdict(<class 'list'>, {'E': ['C', 'F', 'B'], 'C': ['E', 'F', 'G', 'H', 'A'], 'F': ['E', 'C', 'I'], 'B': ['E', 'A'], 'H': ['C', 'G', 'D'], 'D': ['H', 'A'], 'G': ['C', 'H', 'I'], 'A': ['C', 'D', 'B'], 'I': ['F', 'G']})\n",
      "9\n",
      "['E', 'C', 'F', 'B', 'G', 'H', 'A', 'I', 'D']\n",
      "['E', 'B', 'A', 'D', 'H', 'G', 'I', 'F', 'C']\n"
     ]
    }
   ],
   "source": [
    "a = Graph()\n",
    "a.addEdge(\"E\",\"C\")\n",
    "a.addEdge(\"E\",\"F\")\n",
    "a.addEdge(\"E\",\"B\")\n",
    "\n",
    "a.addEdge(\"C\",\"E\")\n",
    "a.addEdge(\"C\",\"F\")\n",
    "a.addEdge(\"C\",\"G\")\n",
    "a.addEdge(\"C\",\"H\")\n",
    "a.addEdge(\"C\",\"A\")\n",
    "\n",
    "a.addEdge(\"F\",\"E\")\n",
    "a.addEdge(\"F\",\"C\")\n",
    "a.addEdge(\"F\",\"I\")\n",
    "\n",
    "a.addEdge(\"B\",\"E\")\n",
    "a.addEdge(\"B\",\"A\")\n",
    "\n",
    "a.addEdge(\"H\",\"C\")\n",
    "a.addEdge(\"H\",\"G\")\n",
    "a.addEdge(\"H\",\"D\")\n",
    "\n",
    "a.addEdge(\"D\",\"H\")\n",
    "a.addEdge(\"D\",\"A\")\n",
    "\n",
    "a.addEdge(\"G\",\"C\")\n",
    "a.addEdge(\"G\",\"H\")\n",
    "a.addEdge(\"G\",\"I\")\n",
    "\n",
    "a.addEdge(\"A\",\"C\")\n",
    "a.addEdge(\"A\",\"D\")\n",
    "a.addEdge(\"A\",\"B\")\n",
    "\n",
    "a.addEdge(\"I\",\"F\")\n",
    "a.addEdge(\"I\",\"G\")\n",
    "print(a.print_dict())\n",
    "print(a.max_length())\n",
    "print(a.BFS(\"E\"))    #[E,C,F,B,G,H,A,I,D]\n",
    "print(a.DFS(\"E\"))    #[E,B,A,D,H,G,I,F,C]"
   ]
  },
  {
   "cell_type": "code",
   "execution_count": 42,
   "metadata": {},
   "outputs": [
    {
     "name": "stdout",
     "output_type": "stream",
     "text": [
      "1\n",
      "2\n",
      "3\n",
      "4\n",
      "5\n"
     ]
    }
   ],
   "source": [
    "i = 0\n",
    "while i<5:\n",
    "    i+=1\n",
    "    print(i)"
   ]
  },
  {
   "cell_type": "code",
   "execution_count": 3,
   "metadata": {},
   "outputs": [
    {
     "name": "stdout",
     "output_type": "stream",
     "text": [
      "[]\n",
      "[1, 2, 3, 3, 4, 5]\n"
     ]
    }
   ],
   "source": [
    "#把第一個數列的數值移動到第二個數列\n",
    "dd = [1,2,3,3,4,5]\n",
    "ddd = []\n",
    "while len(dd)!=0:\n",
    "    ddd.append(dd[0])\n",
    "    dd.pop(0)\n",
    "print(dd)\n",
    "print(ddd)"
   ]
  },
  {
   "cell_type": "code",
   "execution_count": null,
   "metadata": {},
   "outputs": [],
   "source": []
  }
 ],
 "metadata": {
  "kernelspec": {
   "display_name": "Python 3",
   "language": "python",
   "name": "python3"
  },
  "language_info": {
   "codemirror_mode": {
    "name": "ipython",
    "version": 3
   },
   "file_extension": ".py",
   "mimetype": "text/x-python",
   "name": "python",
   "nbconvert_exporter": "python",
   "pygments_lexer": "ipython3",
   "version": "3.6.6"
  }
 },
 "nbformat": 4,
 "nbformat_minor": 2
}
