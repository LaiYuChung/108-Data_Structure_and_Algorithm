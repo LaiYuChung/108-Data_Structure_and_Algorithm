{
 "cells": [
  {
   "cell_type": "markdown",
   "metadata": {},
   "source": [
    "Binary Search Tree:\n",
    "---\n",
    "<br>優點:在最短時間內找到需要的值\n",
    "<br>\n",
    "<br>先決定一個ROOT(通常為第一個值)\n",
    "<br>往下一個值看，比第一個大的值往右，比較小往左邊\n",
    "<br>每一個數字都先跟第一個值比，依序比下去\n",
    "<br>找某一個值時也是先跟第一個值比較\n",
    "<br>跟放數字一樣的方法去找值\n",
    "<br>找一個裡面沒有的值到最後一個節點都沒有找到回傳沒有找到\n",
    "<br>當有相同的值出現，刪除全部同樣的值，例:`13` `13` `4` -->(Delete) `4`\n",
    "<br>`>`丟右邊 、 `<=`丟左邊\n"
   ]
  },
  {
   "cell_type": "markdown",
   "metadata": {},
   "source": [
    "<br>步驟:問題描述 -> 程式架構設計說明 -> 流程圖 -> 逐步解釋說明 -> 測試值使用範例 -> 其他補充說明\n",
    "<br>    \n",
    "- (1)要創造一個二元樹，並提供一些功能例如:查詢，放入，刪除，修改\n",
    "- (2)依照放入的順序不同也會產生不同Tree的樣貌"
   ]
  },
  {
   "cell_type": "code",
   "execution_count": 18,
   "metadata": {},
   "outputs": [
    {
     "name": "stdout",
     "output_type": "stream",
     "text": [
      "相同的五個數字放入的順序不同產生不同的TREE\n"
     ]
    },
    {
     "data": {
      "image/png": "[encoded data removed]",
      "text/plain": [
       "<Figure size 432x288 with 1 Axes>"
      ]
     },
     "metadata": {},
     "output_type": "display_data"
    }
   ],
   "source": [
    "from PIL import Image #Python Image Library\n",
    "import matplotlib.pyplot as plt \n",
    "img = Image.open(\"D:/the_tree.png\")\n",
    "print(\"相同的五個數字放入的順序不同產生不同的TREE\")\n",
    "plt.imshow(img,)\n",
    "plt.show()"
   ]
  },
  {
   "cell_type": "code",
   "execution_count": null,
   "metadata": {},
   "outputs": [],
   "source": [
    "<br>Binary Seach Tree功能說明:\n",
    "<br>新增:\n",
    "<br>    依照原本放入方式把新增的值丟入Tree裡面(大的往右，小的往左)\n",
    "<br>刪除:\n",
    "<br>    找到要刪除的目標值後刪除所有出現該數字的值\n",
    "<br>修改:\n",
    "<br>    將目標位置的值修改為新的值\n",
    "<br>    1.首先要先找到要被修改的值\n",
    "<br>    2.修改為要放入的數值\n",
    "<br>    3.舊的值被修改掉所以不會出現"
   ]
  },
  {
   "cell_type": "code",
   "execution_count": 9,
   "metadata": {},
   "outputs": [],
   "source": [
    "#https://www.youtube.com/watch?v=YlgPi75hIBc&feature=youtu.be\n",
    "#參考上課用教學影片\n",
    "#了解程式碼執行方式\n",
    "\n",
    "class Node(object):\n",
    "    def __init__(self,x):        #創建treenode\n",
    "        self.val = x\n",
    "        self.left = None\n",
    "        self.right = None\n",
    "    def insert(self,data):                 #插入值的方法\n",
    "        if self.val == data:               #如果值已經存在，回傳False\n",
    "            return False\n",
    "        elif self.val > data:              #傳入的值如果比原本還小，放入左邊\n",
    "            if self.left:                  #left存在插入數值到底下\n",
    "                return self.left.insert(data)\n",
    "            else:\n",
    "                self.left = Node(data)     #還沒有left就放入給定的數值 \n",
    "                return True \n",
    "        else:\n",
    "            if self.right:       #傳入的值如果比原本還大，放入右邊\n",
    "                return self.right.insert(data)\n",
    "            else:\n",
    "                self.right = Node(data)\n",
    "                return True\n",
    "    def search(self,data):            #搜尋值的方法\n",
    "        if self.val == data:\n",
    "            return True\n",
    "        elif self.val > data:\n",
    "            if self.left:\n",
    "                return self.left.search(data)\n",
    "            else:\n",
    "                return False\n",
    "        else:\n",
    "            if self.right:\n",
    "                return self.right.search(data)\n",
    "            else:\n",
    "                return False\n",
    "    def preorder(self):\n",
    "        if self:\n",
    "            print(str(self.val))\n",
    "            if self.left:\n",
    "                self.left.preorder()\n",
    "            if self.right:\n",
    "                self.right.preorder()\n",
    "    def postorder(self):\n",
    "        if self:\n",
    "            if self.left:\n",
    "                self.left.postorder()\n",
    "            if self.right:\n",
    "                self.right.postorder()\n",
    "            print(str(self.val))\n",
    "    def inorder(self):\n",
    "        if self:\n",
    "            if self.left:\n",
    "                self.left.inorder()\n",
    "            print(str(self.val))\n",
    "            if self.right:\n",
    "                self.right.inorder()\n",
    "                \n",
    "class Tree(object):\n",
    "    def __init__(self,x):\n",
    "        self.root = None\n",
    "    def insert(self,data):\n",
    "        if self.root:                     #如果已經有數值了\n",
    "            return self.root.insert(data) #插入數值(比大小放左或右邊)\n",
    "        else:                             #一開始如果root為空值會先跑這個\n",
    "            self.root = Node(data)        #root為放入的資料\n",
    "            return True\n",
    "    def search(self,data):\n",
    "        if self.root:\n",
    "            self.root.search(data)\n",
    "        else:\n",
    "            return False\n",
    "    def preorder():\n",
    "        print(\"Preorder\")\n",
    "        self.root.preorder()\n",
    "    def postorder():\n",
    "        print(\"Postorder\")\n",
    "        self.root.postorder()\n",
    "    def inorder():\n",
    "        print(\"Inorder\")\n",
    "        self.root.inorder()"
   ]
  },
  {
   "cell_type": "code",
   "execution_count": 4,
   "metadata": {},
   "outputs": [
    {
     "name": "stdout",
     "output_type": "stream",
     "text": [
      "b\n"
     ]
    }
   ],
   "source": [
    "root = None\n",
    "if root:\n",
    "    print(\"a\")\n",
    "else:\n",
    "    print(\"b\")"
   ]
  },
  {
   "cell_type": "markdown",
   "metadata": {},
   "source": [
    "由上面的判斷式可以知道如果為空值會先執行else的結果"
   ]
  },
  {
   "cell_type": "markdown",
   "metadata": {},
   "source": [
    "<br>一開始看不懂函式自己呼叫自己，是如何執行的?\n",
    "<br>回去先了解迭代的方法\n",
    "<br>1.遞迴(Recursion):一種透過重複將問題分解為同類的子問題而解決問題的方法。\n",
    "<br>在大部分的程式語言中都支援函數的自我呼叫，也就是說在程式語言中可以通過呼叫函數本身來進行遞迴。\n",
    "<br>\n",
    "<br>2.迭代(Iteration):其目的通常是為了接近所需求的目標或結果。每一次對過程的重複被稱為一次\"迭代\"，\n",
    "<br>每一次迭代得到的結果通常會被用來作為下一次迭代的初始值。\n",
    "    "
   ]
  },
  {
   "cell_type": "code",
   "execution_count": 4,
   "metadata": {},
   "outputs": [
    {
     "name": "stdout",
     "output_type": "stream",
     "text": [
      "f(1)= 1\n",
      "f(2)= 1\n",
      "f(3)= 2   f(1)+f(2)\n",
      "f(4)= 3   f(2)+f(3)\n",
      "f(5)= 5   f(3)+f(4)\n"
     ]
    }
   ],
   "source": [
    "#Recursive示例\n",
    "def f(n):\n",
    "    if n == 1:\n",
    "        return 1\n",
    "    if n == 2:\n",
    "        return 1\n",
    "    else:\n",
    "        return f(n-1) + f(n-2) \n",
    "    \n",
    "print(\"f(1)=\",f(1))\n",
    "print(\"f(2)=\",f(2))\n",
    "print(\"f(3)=\",f(3),\"  f(1)+f(2)\")\n",
    "print(\"f(4)=\",f(4),\"  f(2)+f(3)\")\n",
    "print(\"f(5)=\",f(5),\"  f(3)+f(4)\")"
   ]
  },
  {
   "cell_type": "code",
   "execution_count": 11,
   "metadata": {},
   "outputs": [],
   "source": [
    "class tree_node(object):\n",
    "    def __init__(self,val):\n",
    "        self.val = val\n",
    "        self.left = None\n",
    "        self.right = None\n",
    "class bst(object):\n",
    "    def insert(self,root,val):\n",
    "        if val <= root.val:                  #放入的數值小於或等於原本的值，放左邊\n",
    "            if root.left:                    #如果左節點存在，與target的比較由root變為root.left(左節點)\n",
    "                return self.insert(root.left,val)\n",
    "            else:\n",
    "                root.left = tree_node(val)   #如果還沒有左節點，val為root的左節點\n",
    "                return root.left\n",
    "        else:                                #放入的數值大於原本的值，放右邊\n",
    "            if root.right:                   #如果右節點存在，與target的比較由root變為root.right(右節點)\n",
    "                return self.insert(root.right,val)\n",
    "            else:\n",
    "                root.right = tree_node(val)  #如果還沒有右節點，val為root的右節點\n",
    "                return root.right            #回傳value為root的右節點\n",
    "    def search(self,root,x):\n",
    "        if root.val == x:\n",
    "            return True\n",
    "        elif root.val > x:\n",
    "            if root.left:\n",
    "                return self.search(root.left,x)\n",
    "            else:\n",
    "                return False\n",
    "        else:\n",
    "            if root.right:\n",
    "                return self.search(root.right,x)\n",
    "            else:\n",
    "                return False"
   ]
  },
  {
   "cell_type": "code",
   "execution_count": 12,
   "metadata": {},
   "outputs": [
    {
     "name": "stdout",
     "output_type": "stream",
     "text": [
      "50\n",
      "None\n",
      "None\n"
     ]
    }
   ],
   "source": [
    "root = tree_node(50)\n",
    "print(root.val)\n",
    "print(root.left)\n",
    "print(root.right)"
   ]
  },
  {
   "cell_type": "markdown",
   "metadata": {},
   "source": [
    "一開始測試程式，在delete函式會有錯誤說tree node 不能跟數值比較\n",
    "<br>後來發現之後給的測值傳入的是node\n",
    "<br>再用node的value去跟target(放入的數值)去比較就可以了"
   ]
  },
  {
   "cell_type": "code",
   "execution_count": 14,
   "metadata": {},
   "outputs": [
    {
     "name": "stdout",
     "output_type": "stream",
     "text": [
      "True\n",
      "True\n"
     ]
    }
   ],
   "source": [
    "root = tree_node(50)\n",
    "print(bst().insert(root,30) == root.left)\n",
    "print(bst().search(root,30))"
   ]
  },
  {
   "cell_type": "markdown",
   "metadata": {},
   "source": [
    "到這邊我也了解如何放入測試資料了\n",
    "<br>insert回傳的東西是要看他放的位置\n",
    "<br>比如說root = 100\n",
    "<br>要放入80這個值\n",
    "<br>80是要放在root(100)的左邊的\n",
    "<br>所以會回傳root.left\n",
    "<br>這樣要檢查她是不是放對在左邊\n",
    "<br>就可以用insert(root,80) == root.left\n",
    "<br>如果是TRUE就表示對了"
   ]
  },
  {
   "cell_type": "code",
   "execution_count": null,
   "metadata": {},
   "outputs": [],
   "source": [
    "移除有幾種情況:\n",
    "    1.刪除值為tree裡沒有，回傳False\n",
    "    2.刪除值的底下沒有子節點(本身為葉節點)\n",
    "    3.刪除值底下有一個節點(有左節點或右節點)\n",
    "    4.刪除值底下有兩個節點\n",
    "    5.刪除數值後tree也要符合binary search tree的形式\n",
    "    6.要刪除的值，所有出現在tree中都要刪除"
   ]
  },
  {
   "cell_type": "code",
   "execution_count": null,
   "metadata": {},
   "outputs": [],
   "source": [
    "class tree_node(object):\n",
    "    def __init__(self,val):\n",
    "        self.val = val\n",
    "        self.left = None\n",
    "        self.right = None\n",
    "class bst(object):\n",
    "    def search(self,root,x):\n",
    "        if root.val == x:\n",
    "            return True\n",
    "        elif root.val > x:\n",
    "            if root.left:\n",
    "                return self.search(root.left,x)\n",
    "            else:\n",
    "                return False\n",
    "        else:\n",
    "            if root.right:\n",
    "                return self.search(root.right,x)\n",
    "            else:\n",
    "                return False\n",
    "            \n",
    "    def delete(self, root, target):\n",
    "        if self.search(root,target):\n",
    "            \n",
    "        else:\n",
    "            return False\n",
    "    def modify(self, root, target, new_val):\n",
    "        if self.search(root,target):\n",
    "            \n",
    "        else:\n",
    "            return False\n"
   ]
  },
  {
   "cell_type": "code",
   "execution_count": 16,
   "metadata": {},
   "outputs": [
    {
     "name": "stdout",
     "output_type": "stream",
     "text": [
      "A\n"
     ]
    }
   ],
   "source": [
    "a = 3\n",
    "b = a == 3\n",
    "if b:\n",
    "    print(\"A\")\n",
    "else:\n",
    "    print(\"B\")"
   ]
  },
  {
   "cell_type": "code",
   "execution_count": null,
   "metadata": {},
   "outputs": [],
   "source": [
    "# Definition for a binary tree node.\n",
    "# 作業格式\n",
    "class TreeNode(object):\n",
    "    def __init__(self,x):          \n",
    "        self.val = x\n",
    "        self.left = None\n",
    "        self.right = None\n",
    "        \"\"\"\n",
    "        :type val: int\n",
    "        :type left: TreeNode or None\n",
    "        :type right: TreeNode or None\n",
    "        \"\"\"\n",
    "class Solution(object):\n",
    "    def insert(self, root, val):\n",
    "        \"\"\"\n",
    "        :type root: TreeNode\n",
    "        :type val: int\n",
    "        :rtype: TreeNode(inserted node)\n",
    "        \"\"\"\n",
    "    def delete(self, root, target):\n",
    "        \"\"\"\n",
    "        :type root: TreeNode\n",
    "        :type target: int\n",
    "        :rtype: None Do not return anything, delete nodes(maybe more than more) instead.(cannot search())\n",
    "        \"\"\"\n",
    "    def search(self, root, target):\n",
    "        \"\"\"\n",
    "        :type root: TreeNode\n",
    "        :type target: int\n",
    "        :rtype: TreeNode(searched node)\n",
    "        \"\"\"\n",
    "    def modify(self, root, target, new_val):\n",
    "        \"\"\"\n",
    "        :type root: TreeNode\n",
    "        :type target: int\n",
    "        :type new_val: int\n",
    "        :rtype: None Do not return anything, modify nodes(maybe more than more) in-place instead.(cannot search())\n"
   ]
  },
  {
   "cell_type": "code",
   "execution_count": 7,
   "metadata": {},
   "outputs": [
    {
     "name": "stdout",
     "output_type": "stream",
     "text": [
      "原本的Tree的樣子:\n",
      "      5(root)\n",
      "     /   \\:\n",
      "    3     8\n",
      "   /     /  \\:\n",
      "  3     7   10\n",
      " /     /\n",
      "-5    6\n"
     ]
    }
   ],
   "source": [
    "print(\"原本的Tree的樣子:\")\n",
    "print(\"      5(root)\")\n",
    "print(\"     /   \\:\")\n",
    "print(\"    3     8\")\n",
    "print(\"   /     /  \\:\")\n",
    "print(\"  3     7   10\")\n",
    "print(\" /     /\")\n",
    "print(\"-5    6\")"
   ]
  },
  {
   "cell_type": "code",
   "execution_count": null,
   "metadata": {},
   "outputs": [],
   "source": [
    "#測試資料輸入內容:\n",
    "print(\"insert\")\n",
    "print(Solution().insert(root1,4)==root1.left.right)\n",
    "print(\"----------\")\n",
    "print(\"delete\")\n",
    "Solution().delete(root2,3)\n",
    "print(root2.val == 5 and root2.left.val==-5 and root2.left.left==None and root2.left.right==None)\n",
    "print(root2.right.right.val == 10 and root2.right.left.val ==7 and root2.right.left.left.val = 6)\n",
    "print(root2.right.right.right==None and root2.right.right.left== None and root2.right.left.right== None)\n",
    "print(root.right.left.left.left == None and root2.right.left.left.right == None and root2.right.val==8)\n",
    "print(\"----------\")\n",
    "- print(\"search\")\n",
    "print(Solution().search(root3,10)==root3.right.right)\n",
    "print(\"----------\")\n",
    "print(\"modify\")\n",
    "Solution().modify(root4,7,4)\n",
    "print(isBinarySearchTree(root4))\n",
    "#height of root 小於原本的height\n",
    "#Node不可含有7且要有一個4\n",
    "print(\"----------\")\n",
    "#要使上面方法出來的print結果全為True\n",
    "#參考:上課投影片"
   ]
  },
  {
   "cell_type": "code",
   "execution_count": null,
   "metadata": {},
   "outputs": [],
   "source": []
  }
 ],
 "metadata": {
  "kernelspec": {
   "display_name": "Python 3",
   "language": "python",
   "name": "python3"
  },
  "language_info": {
   "codemirror_mode": {
    "name": "ipython",
    "version": 3
   },
   "file_extension": ".py",
   "mimetype": "text/x-python",
   "name": "python",
   "nbconvert_exporter": "python",
   "pygments_lexer": "ipython3",
   "version": "3.6.6"
  }
 },
 "nbformat": 4,
 "nbformat_minor": 2
}
