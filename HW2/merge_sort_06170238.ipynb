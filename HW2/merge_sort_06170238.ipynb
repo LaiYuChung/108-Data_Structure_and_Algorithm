{
 "cells": [
  {
   "cell_type": "markdown",
   "metadata": {},
   "source": [
    "Merge Sort 概念 & 方法:\n",
    "\n",
    "<br>1.將一個`array` 切割成兩個部分 `array1` 和 `array2`\n",
    "<br>2.並創造一個新的空`array3`\n",
    "<br>3.用前兩個`array1` `array2`的第一項比較\n",
    "<br>4.比較小的值放到`array3`\n",
    "<br>5.被移動數值所在的`array`往下一個數值去跟原本沒被移動數值的array比較\n",
    "<br>6.直到`arrar1` `array2`的所有值都比完\n",
    "<br>7.新的`array3`為排序完成的陣列\n",
    "\n",
    "<br>            Merge Sort   \n",
    "<br>時間複雜度 : `O(n*logn)`  \n",
    "<br>空間複雜度 : `O(n)`         "
   ]
  },
  {
   "cell_type": "code",
   "execution_count": null,
   "metadata": {},
   "outputs": [],
   "source": [
    "# Merge Sort Pseusode code\n",
    "\n",
    "i,j,m = 0\n",
    "\n",
    "if (L[i]<=R[j])    #若左右邊數值相同，先放入左邊數字\n",
    "    M[m]=L[i]\n",
    "    i++\n",
    "    m++\n",
    "elif (L[i]>R[j])\n",
    "    M[m]=L[i]\n",
    "    j++\n",
    "    m++\n",
    "if i>len(L)\n",
    "    M.append(R[j:])\n",
    "elif j>len(R)\n",
    "    M.append(L[i:])\n"
   ]
  },
  {
   "cell_type": "code",
   "execution_count": null,
   "metadata": {},
   "outputs": [],
   "source": [
    "#參考資料:https://stackoverflow.com/questions/18761766/mergesort-with-python\n",
    "\n",
    "def msort(x):\n",
    "    result = []\n",
    "    if len(x) < 2:                        #長度為0,1直接回傳值\n",
    "        return x\n",
    "    mid = int(len(x)/2)                   #中間分隔值的index\n",
    "    y = msort(x[:mid])                    # y為左邊數列\n",
    "    z = msort(x[mid:])                    # z為右邊數列\n",
    "    while (len(y) > 0) or (len(z) > 0):   # y或z長度皆大於0進入迴圈\n",
    "        if len(y) > 0 and len(z) > 0:\n",
    "            if y[0] > z[0]:\n",
    "                result.append(z[0])\n",
    "                z.pop(0)\n",
    "            else:\n",
    "                result.append(y[0])\n",
    "                y.pop(0)\n",
    "        elif len(z) > 0:\n",
    "            for i in z:\n",
    "                result.append(i)\n",
    "                z.pop(0)\n",
    "        else:\n",
    "            for i in y:\n",
    "                result.append(i)\n",
    "                y.pop(0)\n",
    "    return result\n",
    "\n",
    "msort([2,6,4,8,2,9])\n"
   ]
  },
  {
   "cell_type": "markdown",
   "metadata": {},
   "source": [
    "1.先把所有的數字分成兩堆\n",
    "<br>2.兩堆的數字再繼續分成更小堆的數字\n",
    "<br>3.到最後兩兩數字比大小並排序\n",
    "<br>4.直到合成為兩堆各自以排序好的數列\n",
    "<br>5.從兩堆第一個數字依序比較放入新的以排序的陣列\n",
    "<br>6.兩堆的數字放完即為排序後的數列\n"
   ]
  },
  {
   "cell_type": "code",
   "execution_count": null,
   "metadata": {},
   "outputs": [],
   "source": [
    "# Merge Sort code\n",
    "\n",
    "def merge_sort(x):\n",
    "    if len(x) <= 1:\n",
    "        return x\n",
    "    middle = len(x)//2\n",
    "    left = merge_sort(x[:middle])\n",
    "    right = merge_sort(x[middle:])\n",
    "    a = 0\n",
    "    b = 0\n",
    "    i = 0\n",
    "    final = []\n",
    "    \n",
    "    while a < len(left) and  b < len(right):\n",
    "        if left[a] < right[b]:                 #如果左邊的值小於等於右邊\n",
    "            final.append(left[a])              #左邊值加入結果列(相等會先加入左邊值)\n",
    "            a+=1                               #左邊列移到下一項\n",
    "        else:                                  #如果右邊的值小於或等於左邊\n",
    "            final.append(right[b])             #右邊值加入結果列\n",
    "            b+=1                               #右邊列移到下一項\n",
    "    while a < len(left):\n",
    "        final.append(left[a])                  #結果列加上左邊數列\n",
    "        a+=1\n",
    "    while b < len(right):\n",
    "        final.append(right[b])                 #反之，結果列加上右邊數列\n",
    "        b+=1\n",
    "    return final\n",
    " \n",
    "import random \n",
    "alist = []\n",
    "for i in range(1,random.randint(1,9)):\n",
    "    alist.append(random.randint(1,100))   #隨機變數創造陣列\n",
    "print(alist)   \n",
    "print(merge_sort(alist))"
   ]
  },
  {
   "cell_type": "code",
   "execution_count": null,
   "metadata": {},
   "outputs": [],
   "source": [
    "疑問: \n",
    "函式自己呼叫自己的程序"
   ]
  },
  {
   "cell_type": "code",
   "execution_count": 7,
   "metadata": {},
   "outputs": [],
   "source": [
    "# class 作法\n",
    "class Solution(object):\n",
    "    def merge_sort(self, x):\n",
    "        self.x = x\n",
    "        if len(x) <= 1:\n",
    "            return x\n",
    "        middle = len(x)//2\n",
    "        left = Solution().merge_sort(x[:middle])\n",
    "        right = Solution().merge_sort(x[middle:])\n",
    "        a = 0\n",
    "        b = 0\n",
    "        i = 0\n",
    "        final = []\n",
    "\n",
    "        while a < len(left) and  b < len(right):\n",
    "            if left[a] < right[b]:                 #如果左邊的值小於等於右邊\n",
    "                final.append(left[a])              #左邊值加入結果列(相等會先加入左邊值)\n",
    "                a+=1                               #左邊列移到下一項\n",
    "            else:                                  #如果右邊的值小於或等於左邊\n",
    "                final.append(right[b])             #右邊值加入結果列\n",
    "                b+=1                               #右邊列移到下一項\n",
    "        while a < len(left):\n",
    "            final.append(left[a])                  #結果列加上左邊數列\n",
    "            a+=1\n",
    "        while b < len(right):\n",
    "            final.append(right[b])                 #反之，結果列加上右邊數列\n",
    "            b+=1\n",
    "        return final\n",
    "    "
   ]
  },
  {
   "cell_type": "code",
   "execution_count": 9,
   "metadata": {},
   "outputs": [
    {
     "data": {
      "text/plain": [
       "[1, 2, 4, 16, 49, 64, 100, 169, 225]"
      ]
     },
     "execution_count": 9,
     "metadata": {},
     "output_type": "execute_result"
    }
   ],
   "source": [
    "Solution().merge_sort([4,49,16,1,2,64,100,225,169])\n"
   ]
  },
  {
   "cell_type": "code",
   "execution_count": null,
   "metadata": {},
   "outputs": [],
   "source": []
  }
 ],
 "metadata": {
  "kernelspec": {
   "display_name": "Python 3",
   "language": "python",
   "name": "python3"
  },
  "language_info": {
   "codemirror_mode": {
    "name": "ipython",
    "version": 3
   },
   "file_extension": ".py",
   "mimetype": "text/x-python",
   "name": "python",
   "nbconvert_exporter": "python",
   "pygments_lexer": "ipython3",
   "version": "3.6.6"
  }
 },
 "nbformat": 4,
 "nbformat_minor": 2
}
