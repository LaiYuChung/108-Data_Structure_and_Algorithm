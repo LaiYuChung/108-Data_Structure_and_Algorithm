{
 "cells": [
  {
   "cell_type": "markdown",
   "metadata": {},
   "source": [
    "Heap Sort 概念 & 方法:\n",
    "<br>\n",
    "堆積排序法有兩個大步驟，第一個是把要排序的陣列製作成「最小堆積」(Min Heap)或是「最大堆積」(Max Heap)。\n",
    "<br>如果要將陣列`遞增排序`的話就使用`最大堆積`；如果要`遞減排序`的話就使用`最小堆積`。\n",
    "<br>接下來的步驟就是利用最大堆積和最小堆積來進行排序\n",
    "<br>\n",
    "<br>什麼是完全二元樹？完全二元樹是一種二元樹\n",
    "<br>它只允許最後一層(最底下那層)的節點數量可以不必填滿\n",
    "<br>(若頂層是第1層，則第n層的最大節點數量為2^n-1，第3層的最大節點數量為4個，第1層依序節點數量1,2,4,8)。\n",
    "\n",
    "<br>參考資料:https://magiclen.org/heap-sort/\n",
    "        \n",
    "<br>            Heap Sort\n",
    "<br>時間複雜度 : O(n*logn)\n",
    "<br>空間複雜度 : O(1)\n"
   ]
  },
  {
   "cell_type": "markdown",
   "metadata": {},
   "source": [
    "`--------------------------------------------`\n",
    "<br>最小堆積(Min Heap) 和 最大堆積(Max Heap) 說明:\n",
    "<br>Max Heap：在每一個subtree中，root之「數值」要比兩個child之「數值」還要大：\n",
    "<br>(i為他在Heap中的index值)\n",
    "<br>\n",
    "<br>`value(i)` > `value(2i)`\n",
    "<br>`value(i)` > `value(2i+1)`\n",
    "<br>\n",
    "<br>Min Heap：在每一個subtree中，root之「數值」要比兩個child之「數值」還要小：\n",
    "<br>\n",
    "<br>`value(i)` < `value(2i)`\n",
    "<br>`value(i)` < `value(2i+1)`\n",
    "<br>\n",
    "<br>\n",
    "<br>參考資料:http://alrightchiu.github.io/SecondRound/comparison-sort-heap-sortdui-ji-pai-xu-fa.html"
   ]
  },
  {
   "cell_type": "code",
   "execution_count": null,
   "metadata": {},
   "outputs": [],
   "source": [
    "# Heap Sort Pseusode code\n"
   ]
  },
  {
   "cell_type": "code",
   "execution_count": 1,
   "metadata": {},
   "outputs": [
    {
     "name": "stdout",
     "output_type": "stream",
     "text": [
      "Sorted array is\n",
      "5\n",
      "6\n",
      "7\n",
      "11\n",
      "12\n",
      "13\n"
     ]
    }
   ],
   "source": [
    "# 參考老師的程式碼\n",
    "# To heapify subtree rooted at index i. \n",
    "# n is size of heap \n",
    "def heapify(arr, n, i):                           #建立堆，給予三個變數(陣列,heap的大小,樹根值為i)\n",
    "    largest = i # Initialize largest as root      #設定樹根的值(第i個index) \n",
    "    l = 2 * i + 1    # left = 2*i + 1             #左節點為2i+1\n",
    "    r = 2 * i + 2    # right = 2*i + 2            #右節點為2i+2\n",
    "\n",
    "    # See if left child of root exists and is \n",
    "    # greater than root \n",
    "    if l < n and arr[i] < arr[l]:       #查看左子節點是否存在且大於樹根的值\n",
    "        largest = l                     #將此子節點設為新的樹根值\n",
    "\n",
    "    # See if right child of root exists and is \n",
    "    # greater than root \n",
    "    if r < n and arr[largest] < arr[r]: #查看左子節點是否存在且大於樹根的值\n",
    "        largest = r                     #將此子節點設為新的樹根值\n",
    "\n",
    "    # Change root, if needed \n",
    "    if largest != i:                    #如果不相等\n",
    "        arr[i],arr[largest] = arr[largest],arr[i] # swap #交換位置\n",
    "\n",
    "        # Heapify the root. \n",
    "        heapify(arr, n, largest) \n",
    "\n",
    "# The main function to sort an array of given size \n",
    "def heapSort(arr): \n",
    "    n = len(arr)                   #n等於陣列長度\n",
    "\n",
    "    # Build a maxheap. \n",
    "    for i in range(n, -1, -1): #創建一個\n",
    "        heapify(arr, n, i) \n",
    "\n",
    "    # One by one extract elements \n",
    "    for i in range(n-1, 0, -1): \n",
    "        arr[i], arr[0] = arr[0], arr[i] # swap \n",
    "        heapify(arr, i, 0) \n",
    "\n",
    "# Driver code to test above \n",
    "arr = [ 12, 11, 13, 5, 6, 7] \n",
    "heapSort(arr) \n",
    "n = len(arr) \n",
    "print (\"Sorted array is\") \n",
    "for i in range(n): \n",
    "    print (\"%d\" %arr[i]) \n",
    "# This code is contributed by Mohit Kumra "
   ]
  },
  {
   "cell_type": "code",
   "execution_count": null,
   "metadata": {},
   "outputs": [],
   "source": [
    "# Heap Sort code\n",
    "Class Solution(object):\n",
    "    def __init__(self.x):\n",
    "        self.x = x\n",
    "    def heap():\n",
    "    \n",
    "    def heap_sort():\n",
    "        "
   ]
  }
 ],
 "metadata": {
  "kernelspec": {
   "display_name": "Python 3",
   "language": "python",
   "name": "python3"
  },
  "language_info": {
   "codemirror_mode": {
    "name": "ipython",
    "version": 3
   },
   "file_extension": ".py",
   "mimetype": "text/x-python",
   "name": "python",
   "nbconvert_exporter": "python",
   "pygments_lexer": "ipython3",
   "version": "3.6.6"
  }
 },
 "nbformat": 4,
 "nbformat_minor": 2
}
